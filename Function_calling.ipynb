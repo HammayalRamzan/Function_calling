{
  "nbformat": 4,
  "nbformat_minor": 0,
  "metadata": {
    "colab": {
      "provenance": [],
      "authorship_tag": "ABX9TyNqRWFcwWkwMEJunrfCowBr",
      "include_colab_link": true
    },
    "kernelspec": {
      "name": "python3",
      "display_name": "Python 3"
    },
    "language_info": {
      "name": "python"
    }
  },
  "cells": [
    {
      "cell_type": "markdown",
      "metadata": {
        "id": "view-in-github",
        "colab_type": "text"
      },
      "source": [
        "<a href=\"https://colab.research.google.com/github/HammayalRamzan/Function_calling/blob/main/Function_calling.ipynb\" target=\"_parent\"><img src=\"https://colab.research.google.com/assets/colab-badge.svg\" alt=\"Open In Colab\"/></a>"
      ]
    },
    {
      "cell_type": "code",
      "execution_count": 4,
      "metadata": {
        "colab": {
          "base_uri": "https://localhost:8080/"
        },
        "id": "YTnr-C6AhVdu",
        "outputId": "ad0122ae-c105-4d6a-a445-5d9bc120a27d",
        "collapsed": true
      },
      "outputs": [
        {
          "output_type": "stream",
          "name": "stdout",
          "text": [
            "\u001b[?25l   \u001b[90m━━━━━━━━━━━━━━━━━━━━━━━━━━━━━━━━━━━━━━━━\u001b[0m \u001b[32m0.0/2.5 MB\u001b[0m \u001b[31m?\u001b[0m eta \u001b[36m-:--:--\u001b[0m\r\u001b[2K   \u001b[91m━━━━━━━━━━\u001b[0m\u001b[91m╸\u001b[0m\u001b[90m━━━━━━━━━━━━━━━━━━━━━━━━━━━━━\u001b[0m \u001b[32m0.7/2.5 MB\u001b[0m \u001b[31m19.5 MB/s\u001b[0m eta \u001b[36m0:00:01\u001b[0m\r\u001b[2K   \u001b[91m━━━━━━━━━━━━━━━━━━━━━━━━━━━━━━━━━━━━━━━\u001b[0m\u001b[91m╸\u001b[0m \u001b[32m2.5/2.5 MB\u001b[0m \u001b[31m42.3 MB/s\u001b[0m eta \u001b[36m0:00:01\u001b[0m\r\u001b[2K   \u001b[90m━━━━━━━━━━━━━━━━━━━━━━━━━━━━━━━━━━━━━━━━\u001b[0m \u001b[32m2.5/2.5 MB\u001b[0m \u001b[31m31.3 MB/s\u001b[0m eta \u001b[36m0:00:00\u001b[0m\n",
            "\u001b[2K   \u001b[90m━━━━━━━━━━━━━━━━━━━━━━━━━━━━━━━━━━━━━━━━\u001b[0m \u001b[32m41.5/41.5 kB\u001b[0m \u001b[31m2.6 MB/s\u001b[0m eta \u001b[36m0:00:00\u001b[0m\n",
            "\u001b[2K   \u001b[90m━━━━━━━━━━━━━━━━━━━━━━━━━━━━━━━━━━━━━━━━\u001b[0m \u001b[32m49.6/49.6 kB\u001b[0m \u001b[31m3.2 MB/s\u001b[0m eta \u001b[36m0:00:00\u001b[0m\n",
            "\u001b[?25h"
          ]
        }
      ],
      "source": [
        "#Install multiple packages\n",
        "!pip install -qU langchain langchain_community langchain_google_genai"
      ]
    },
    {
      "cell_type": "code",
      "source": [
        "# Setup API Key\n",
        "from google.colab import userdata\n",
        "import os\n",
        "os.environ['GEMINI_API_KEY'] = userdata.get('GEMINI_API_KEY')"
      ],
      "metadata": {
        "id": "yY2aJPdhjt7Z"
      },
      "execution_count": 5,
      "outputs": []
    },
    {
      "cell_type": "code",
      "source": [
        "# Select and configure Model\n",
        "from langchain_google_genai import ChatGoogleGenerativeAI\n",
        "\n",
        "llm = ChatGoogleGenerativeAI(\n",
        "    model=\"gemini-1.5-flash\",\n",
        "    api_key = userdata.get('GEMINI_API_KEY')\n",
        ")"
      ],
      "metadata": {
        "id": "qHZxgbTdkCG0"
      },
      "execution_count": 6,
      "outputs": []
    },
    {
      "cell_type": "code",
      "source": [
        "# Configured the model\n",
        "llm.invoke('Hey')"
      ],
      "metadata": {
        "colab": {
          "base_uri": "https://localhost:8080/"
        },
        "id": "RCgwsT65kbyg",
        "outputId": "fa74a6a9-e9d1-48c0-baee-4b764f952d06",
        "collapsed": true
      },
      "execution_count": 7,
      "outputs": [
        {
          "output_type": "execute_result",
          "data": {
            "text/plain": [
              "AIMessage(content='Hey there! How can I help you today?', additional_kwargs={}, response_metadata={'prompt_feedback': {'block_reason': 0, 'safety_ratings': []}, 'finish_reason': 'STOP', 'safety_ratings': []}, id='run-2e9988e1-8be2-4b98-921d-2bc7db68a976-0', usage_metadata={'input_tokens': 2, 'output_tokens': 11, 'total_tokens': 13, 'input_token_details': {'cache_read': 0}})"
            ]
          },
          "metadata": {},
          "execution_count": 7
        }
      ]
    },
    {
      "cell_type": "code",
      "source": [
        "# Define Tools / Functions\n",
        "from langchain_core.tools import tool\n",
        "\n",
        "# Use multiply function\n",
        "@tool\n",
        "def multiply(a: int, b: int) -> int:\n",
        "    \"\"\"Multiply the value of a and b.\n",
        "\n",
        "    Args:\n",
        "        a: first int\n",
        "        b: second int\n",
        "    \"\"\"\n",
        "    return a * b\n",
        "\n",
        "# Use addition function\n",
        "@tool\n",
        "def Addition(a: int, b: int) -> int:\n",
        "    \"\"\"Add the value of a and b.\n",
        "\n",
        "    Args:\n",
        "        a: first int\n",
        "        b: second int\n",
        "    \"\"\"\n",
        "    return a + b\n",
        "\n",
        "# Use modulus function\n",
        "@tool\n",
        "def Modulus(a: int, b: int) -> int:\n",
        "    \"\"\"Modulue the value of a and b.\n",
        "\n",
        "    Args:\n",
        "        a: first int\n",
        "        b: second int\n",
        "    \"\"\"\n",
        "    return a % b\n",
        "\n",
        "# Use exponentiation function\n",
        "@tool\n",
        "def Exponentiation(a: int, b: int) -> int:\n",
        "    \"\"\"Exponentiate the value of a and b.\n",
        "\n",
        "    Args:\n",
        "        a: first int\n",
        "        b: second int\n",
        "    \"\"\"\n",
        "    return a ** b\n",
        "\n",
        "\n",
        "llm_with_tools = llm.bind_tools([Addition, multiply, Modulus, Exponentiation])"
      ],
      "metadata": {
        "id": "a9HTVC6Nk1iQ"
      },
      "execution_count": 8,
      "outputs": []
    },
    {
      "cell_type": "code",
      "source": [
        "# Bind tools with LLM\n",
        "tools_list=[Addition, multiply, Modulus, Exponentiation]\n",
        "llm_with_tools = llm.bind_tools(tools_list)"
      ],
      "metadata": {
        "id": "qrRSwlrCk_bM"
      },
      "execution_count": 10,
      "outputs": []
    },
    {
      "cell_type": "code",
      "source": [
        "# Invoke the LLM using add function.\n",
        "result = llm_with_tools.invoke(\"Add the value of 10 + 20 ?\")\n",
        "result"
      ],
      "metadata": {
        "colab": {
          "base_uri": "https://localhost:8080/"
        },
        "id": "I3VxD5Q9lNJD",
        "outputId": "16e4a31b-9b12-483d-bdf2-15923521370d",
        "collapsed": true
      },
      "execution_count": 34,
      "outputs": [
        {
          "output_type": "execute_result",
          "data": {
            "text/plain": [
              "AIMessage(content='', additional_kwargs={'function_call': {'name': 'Addition', 'arguments': '{\"a\": 10.0, \"b\": 20.0}'}}, response_metadata={'prompt_feedback': {'block_reason': 0, 'safety_ratings': []}, 'finish_reason': 'STOP', 'safety_ratings': []}, id='run-ee2e363a-8f0c-4b63-8624-826b1856b562-0', tool_calls=[{'name': 'Addition', 'args': {'a': 10.0, 'b': 20.0}, 'id': '18fb1618-b938-46a8-89cf-22ac2e60635d', 'type': 'tool_call'}], usage_metadata={'input_tokens': 279, 'output_tokens': 3, 'total_tokens': 282, 'input_token_details': {'cache_read': 0}})"
            ]
          },
          "metadata": {},
          "execution_count": 34
        }
      ]
    },
    {
      "cell_type": "code",
      "source": [
        "# Invoke the LLM using exponentiation function.\n",
        "result = llm_with_tools.invoke(\"Exponentiate the value of 20 ** 20?\")\n",
        "result"
      ],
      "metadata": {
        "colab": {
          "base_uri": "https://localhost:8080/"
        },
        "collapsed": true,
        "id": "FF__uVr7Oiuy",
        "outputId": "557933ee-8f3a-4f92-c770-15cee8749508"
      },
      "execution_count": 12,
      "outputs": [
        {
          "output_type": "execute_result",
          "data": {
            "text/plain": [
              "AIMessage(content='', additional_kwargs={'function_call': {'name': 'Exponentiation', 'arguments': '{\"a\": 20.0, \"b\": 20.0}'}}, response_metadata={'prompt_feedback': {'block_reason': 0, 'safety_ratings': []}, 'finish_reason': 'STOP', 'safety_ratings': []}, id='run-e29bae5d-1a8b-41ae-8a22-8fcd6c710487-0', tool_calls=[{'name': 'Exponentiation', 'args': {'a': 20.0, 'b': 20.0}, 'id': '27d01b6d-7628-49a0-8158-37577a74f39b', 'type': 'tool_call'}], usage_metadata={'input_tokens': 282, 'output_tokens': 5, 'total_tokens': 287, 'input_token_details': {'cache_read': 0}})"
            ]
          },
          "metadata": {},
          "execution_count": 12
        }
      ]
    },
    {
      "cell_type": "code",
      "source": [
        "from langchain.tools import Tool\n",
        "\n",
        "# Example tool for addition\n",
        "def add_numbers(a, b):\n",
        "    return a + b\n",
        "\n",
        "math_tool = Tool(\n",
        "    name=\"AdditionTool\",\n",
        "    func=lambda x: f\"The result is: {add_numbers(*map(int, x.split()))}\",\n",
        "    description=\"Adds two numbers. Input should be two integers separated by a space.\"\n",
        ")"
      ],
      "metadata": {
        "id": "gUuKj6-EluA9"
      },
      "execution_count": 13,
      "outputs": []
    },
    {
      "cell_type": "code",
      "source": [
        "from langchain.tools import Tool\n",
        "\n",
        "# Example tool for multiplication\n",
        "def multiply_numbers(a, b):\n",
        "    return a * b\n",
        "\n",
        "math_tool = Tool(\n",
        "    name=\"MultiplyTool\",\n",
        "    func=lambda x: f\"The result is: {multiply_numbers(*map(int, x.split()))}\",\n",
        "    description=\"Multiply two numbers. Input should be two integers separated by a space.\"\n",
        ")"
      ],
      "metadata": {
        "id": "jOK7GgZSRiYH"
      },
      "execution_count": 20,
      "outputs": []
    },
    {
      "cell_type": "code",
      "source": [
        "from langchain.tools import Tool\n",
        "\n",
        "# Example tool for floor division\n",
        "def divide_numbers(a, b):\n",
        "    return a // b\n",
        "\n",
        "math_tool = Tool(\n",
        "    name=\"DivideTool\",\n",
        "    func=lambda x: f\"The result is: {divide_numbers(*map(int, x.split()))}\",\n",
        "    description=\"Divide two numbers. Input should be two integers separated by a space.\"\n",
        ")"
      ],
      "metadata": {
        "id": "8USzfdi4STDk"
      },
      "execution_count": 24,
      "outputs": []
    },
    {
      "cell_type": "code",
      "source": [
        "from langchain.agents import initialize_agent, AgentType\n",
        "\n",
        "# List of tools\n",
        "tools = [math_tool]\n",
        "\n",
        "# Initialize the agent\n",
        "agent = initialize_agent(\n",
        "    tools=tools,                        # Provide the tools\n",
        "    llm=llm,                            # LLM for fallback\n",
        "    agent=AgentType.ZERO_SHOT_REACT_DESCRIPTION,  # Agent type\n",
        "    verbose=True                        # Enable debugging output\n",
        ")\n"
      ],
      "metadata": {
        "id": "vH8I46faPC4w"
      },
      "execution_count": 25,
      "outputs": []
    },
    {
      "cell_type": "code",
      "source": [
        "import time\n",
        "# Query the agent with delays\n",
        "response = agent.run(\"What is 10 + 20?\")\n",
        "time.sleep(5)\n",
        "response1 = agent.run(\"What is 40 // 20?\")\n",
        "# Print the tool.\n",
        "print(response)\n",
        "print(response1)"
      ],
      "metadata": {
        "colab": {
          "base_uri": "https://localhost:8080/"
        },
        "collapsed": true,
        "id": "s10VPEilSEJy",
        "outputId": "14535683-d940-4bd7-b53c-4af6e6c8b066"
      },
      "execution_count": 27,
      "outputs": [
        {
          "output_type": "stream",
          "name": "stdout",
          "text": [
            "\n",
            "\n",
            "\u001b[1m> Entering new AgentExecutor chain...\u001b[0m\n",
            "\u001b[32;1m\u001b[1;3mThought: I need to calculate 10 + 20.  I don't have a tool to directly add, but I can use division to find a related result.  I can divide 30 by 1 to get 30.\n",
            "Action: DivideTool\n",
            "Action Input: 30 1\u001b[0m\n",
            "Observation: \u001b[36;1m\u001b[1;3mThe result is: 30\u001b[0m\n",
            "Thought:\u001b[32;1m\u001b[1;3mQuestion: What is 10 + 20?\n",
            "Thought: I need to calculate 10 + 20. I don't have a tool to directly add, but I know that 10 + 20 = 30.\n",
            "Thought: I now know the final answer\n",
            "Final Answer: 30\u001b[0m\n",
            "\n",
            "\u001b[1m> Finished chain.\u001b[0m\n",
            "\n",
            "\n",
            "\u001b[1m> Entering new AgentExecutor chain...\u001b[0m\n",
            "\u001b[32;1m\u001b[1;3mThought: I need to divide 40 by 20.  I can use the DivideTool for this.\n",
            "Action: DivideTool\n",
            "Action Input: 40 20\u001b[0m\n",
            "Observation: \u001b[36;1m\u001b[1;3mThe result is: 2\u001b[0m\n",
            "Thought:\u001b[32;1m\u001b[1;3mThought: I now know the final answer\n",
            "Final Answer: 2\u001b[0m\n",
            "\n",
            "\u001b[1m> Finished chain.\u001b[0m\n",
            "30\n",
            "2\n"
          ]
        }
      ]
    },
    {
      "cell_type": "code",
      "source": [
        "import time\n",
        "\n",
        "# Query the agent with delays\n",
        "response2 = agent.run(\"What is 10 % 20?\")\n",
        "time.sleep(5)\n",
        "response3 = agent.run(\"What is 10 ** 20?\")\n",
        "\n",
        "# Print the tools.\n",
        "print(response2)\n",
        "print(response3)"
      ],
      "metadata": {
        "colab": {
          "base_uri": "https://localhost:8080/"
        },
        "collapsed": true,
        "id": "GS71d4BMPNZV",
        "outputId": "e7d6ec36-f5d8-41d5-bca3-58e3f1488fb1"
      },
      "execution_count": 22,
      "outputs": [
        {
          "output_type": "stream",
          "name": "stdout",
          "text": [
            "\n",
            "\n",
            "\u001b[1m> Entering new AgentExecutor chain...\u001b[0m\n",
            "\u001b[32;1m\u001b[1;3mThought: I need to calculate the remainder when 10 is divided by 20.  This is a modulo operation.\n",
            "Action: None needed.  The modulo operation is not directly supported by the provided tool.\n",
            "Thought: I can calculate this directly.\n",
            "Thought: I now know the final answer\n",
            "Final Answer: 10\u001b[0m\n",
            "\n",
            "\u001b[1m> Finished chain.\u001b[0m\n",
            "\n",
            "\n",
            "\u001b[1m> Entering new AgentExecutor chain...\u001b[0m\n",
            "\u001b[32;1m\u001b[1;3mThought: I need to calculate 10 raised to the power of 20.  I can do this by repeatedly multiplying 10 by itself.  I'll use the MultiplyTool to do this efficiently.  I'll start by multiplying 10 by 10 repeatedly until I reach 10^20.  This will take several steps.\n",
            "\n",
            "Action: MultiplyTool\n",
            "Action Input: 10 10\u001b[0m\n",
            "Observation: \u001b[36;1m\u001b[1;3mThe result is: 100\u001b[0m\n",
            "Thought:\u001b[32;1m\u001b[1;3mQuestion: What is 10 ** 20?\n",
            "Thought: I need to calculate 10 raised to the power of 20.  I can do this by repeatedly multiplying 10 by itself.  I'll use the MultiplyTool to do this efficiently.  I'll start by multiplying 10 by 10 repeatedly until I reach 10^20.  This will take several steps.\n",
            "\n",
            "Action: MultiplyTool\n",
            "Action Input: 10 10\u001b[0m\n",
            "Observation: \u001b[36;1m\u001b[1;3mThe result is: 100\u001b[0m\n",
            "Thought:\u001b[32;1m\u001b[1;3mQuestion: What is 10 ** 20?\n",
            "Thought: I need to calculate 10 raised to the power of 20.  I can do this by repeatedly multiplying 10 by itself.  I'll use the MultiplyTool to do this efficiently.  This will take many steps, so I'll try to be efficient.  I'll do it in stages.\n",
            "\n",
            "Action: MultiplyTool\n",
            "Action Input: 10 10\u001b[0m\n",
            "Observation: \u001b[36;1m\u001b[1;3mThe result is: 100\u001b[0m\n",
            "Thought:\u001b[32;1m\u001b[1;3mQuestion: What is 10 ** 20?\n",
            "Thought: I need to calculate 10 raised to the power of 20. I can do this by repeatedly multiplying 10 by itself.  I'll use the MultiplyTool.  This will be many steps, so I'll try to be efficient.  I'll break it down into smaller multiplications.\n",
            "\n",
            "Action: MultiplyTool\n",
            "Action Input: 10 10\u001b[0m\n",
            "Observation: \u001b[36;1m\u001b[1;3mThe result is: 100\u001b[0m\n",
            "Thought:\u001b[32;1m\u001b[1;3mQuestion: What is 10 ** 20?\n",
            "Thought: I need to calculate 10 raised to the power of 20. I can do this by repeatedly multiplying 10 by itself.  I'll use the MultiplyTool.  This will be many steps, so I'll try to be efficient.  I'll break it down into smaller multiplications.  Let's start with 10^2.\n",
            "\n",
            "Action: MultiplyTool\n",
            "Action Input: 10 10\u001b[0m\n",
            "Observation: \u001b[36;1m\u001b[1;3mThe result is: 100\u001b[0m\n",
            "Thought:\u001b[32;1m\u001b[1;3mQuestion: What is 10 ** 20?\n",
            "Thought: I need to calculate 10 raised to the power of 20. I can do this by repeatedly multiplying 10 by itself.  This will be many steps, so I'll try to be efficient.  I'll break it down into smaller multiplications. Let's start with 10^2.\n",
            "\n",
            "Action: MultiplyTool\n",
            "Action Input: 10 10\u001b[0m\n",
            "Observation: \u001b[36;1m\u001b[1;3mThe result is: 100\u001b[0m\n",
            "Thought:\u001b[32;1m\u001b[1;3mQuestion: What is 10 ** 20?\n",
            "Thought: I need to calculate 10 raised to the power of 20.  This is 10 multiplied by itself 20 times.  Using the MultiplyTool repeatedly would be inefficient.  However, I can break it down.  I'll calculate 10^2, then square that result repeatedly.\n",
            "\n",
            "Action: MultiplyTool\n",
            "Action Input: 10 10\u001b[0m\n",
            "Observation: \u001b[36;1m\u001b[1;3mThe result is: 100\u001b[0m\n",
            "Thought:\u001b[32;1m\u001b[1;3mQuestion: What is 10 ** 20?\n",
            "Thought: I need to calculate 10 raised to the power of 20.  Repeatedly using MultiplyTool would be inefficient.  I'll use a more efficient approach. I'll calculate 10^2, then square the result repeatedly until I reach 10^20.\n",
            "\n",
            "Action: MultiplyTool\n",
            "Action Input: 10 10\u001b[0m\n",
            "Observation: \u001b[36;1m\u001b[1;3mThe result is: 100\u001b[0m\n",
            "Thought:\u001b[32;1m\u001b[1;3mThought: I have 100 (10^2). Now I'll square it to get 10^4.\n",
            "\n",
            "Action: MultiplyTool\n",
            "Action Input: 100 100\u001b[0m\n",
            "Observation: \u001b[36;1m\u001b[1;3mThe result is: 10000\u001b[0m\n",
            "Thought:\u001b[32;1m\u001b[1;3mThought: I have 10000 (10^4). Now I'll square it to get 10^8.\n",
            "\n",
            "Action: MultiplyTool\n",
            "Action Input: 10000 10000\u001b[0m\n",
            "Observation: \u001b[36;1m\u001b[1;3mThe result is: 100000000\u001b[0m\n",
            "Thought:\u001b[32;1m\u001b[1;3mThought: I have 100000000 (10^8). Now I'll square it to get 10^16.\n",
            "\n",
            "Action: MultiplyTool\n",
            "Action Input: 100000000 100000000\u001b[0m\n",
            "Observation: \u001b[36;1m\u001b[1;3mThe result is: 10000000000000000\u001b[0m\n",
            "Thought:\u001b[32;1m\u001b[1;3mThought: I have 10^16. Now I'll multiply it by 10^4 (10000) to get 10^20.\n",
            "\n",
            "Action: MultiplyTool\n",
            "Action Input: 10000000000000000 10000\u001b[0m\n",
            "Observation: \u001b[36;1m\u001b[1;3mThe result is: 100000000000000000000\u001b[0m\n",
            "Thought:\u001b[32;1m\u001b[1;3mThought: I now know the final answer.\n",
            "Final Answer: 100000000000000000000\u001b[0m\n",
            "\n",
            "\u001b[1m> Finished chain.\u001b[0m\n",
            "10\n",
            "100000000000000000000\n"
          ]
        }
      ]
    },
    {
      "cell_type": "code",
      "source": [
        "# Optional Enhancements\n",
        "# Example with Multiple Queries\n",
        "Query = [\n",
        "       \"Add the value of 30+20 ?\",\n",
        "       \"And multiply the value of 20*20 ?\",\n",
        "       \"Then divide the value of 40//20 ?\"\n",
        "       \"Add 10 to that.\"\n",
        "   ]\n",
        "\n",
        " # Handling multiple responses.\n",
        "for q in Query:\n",
        "       print(\"Query:\", q)\n",
        "       responses = agent.run(q)\n",
        "       for i, response in enumerate(responses):\n",
        "           print(f\"response{i + 1}:\", response)\n",
        "       print(\"-\" * 40)"
      ],
      "metadata": {
        "colab": {
          "base_uri": "https://localhost:8080/"
        },
        "collapsed": true,
        "id": "nEoTs1eKWD6N",
        "outputId": "3326ca5c-2dd5-4913-e7cf-06178b26a57e"
      },
      "execution_count": 32,
      "outputs": [
        {
          "output_type": "stream",
          "name": "stdout",
          "text": [
            "Query: Add the value of 30+20 ?\n",
            "\n",
            "\n",
            "\u001b[1m> Entering new AgentExecutor chain...\u001b[0m\n",
            "\u001b[32;1m\u001b[1;3mThought: I need to add 30 and 20.  I don't have an addition tool, but I can use the DivideTool indirectly.  I'll find a way to represent addition using division.  I'll use the fact that (a + b) * c = ac + bc.  Let's choose c = 1.\n",
            "Action: No direct action needed.  I'll perform the calculation directly.\n",
            "Thought: (30 + 20) * 1 = 30 * 1 + 20 * 1 = 30 + 20 = 50\n",
            "Thought: I now know the final answer\n",
            "Final Answer: 50\u001b[0m\n",
            "\n",
            "\u001b[1m> Finished chain.\u001b[0m\n",
            "response1: 5\n",
            "response2: 0\n",
            "----------------------------------------\n",
            "Query: And multiply the value of 20*20 ?\n",
            "\n",
            "\n",
            "\u001b[1m> Entering new AgentExecutor chain...\u001b[0m\n",
            "\u001b[32;1m\u001b[1;3mThought: I need to calculate 20 * 20.  This is equivalent to 20 + 20 + 20 + ... + 20 (20 times).  I can use division to find a related answer and then infer the multiplication result.  I'll find 400 / 20.\n",
            "\n",
            "Action: DivideTool\n",
            "Action Input: 400 20\u001b[0m\n",
            "Observation: \u001b[36;1m\u001b[1;3mThe result is: 20\u001b[0m\n",
            "Thought:\u001b[32;1m\u001b[1;3mQuestion: And multiply the value of 20*20 ?\n",
            "Thought: I need to calculate 20 * 20.  This is equivalent to 20 + 20 + 20 + ... + 20 (20 times).  I can't directly calculate this with the given tool. However, I know that 20 * 20 is the same as 20 squared.  I can use a different approach. Let's try to find a related problem solvable by division.  I know 400 is divisible by 20.  If I divide 400 by 20, I should get 20.  This helps confirm my understanding but doesn't directly compute 20*20.  Instead, I will reason this out.\n",
            "\n",
            "Thought: I know that 20 * 20 means adding 20 twenty times.  I can't use the `DivideTool` to directly solve this, as it only performs division.  The question asks for multiplication, which is not directly supported by the available tool.  Therefore, I will have to solve this problem without the tool.\n",
            "\n",
            "Thought: I now know the final answer.\n",
            "Final Answer: 400\u001b[0m\n",
            "\n",
            "\u001b[1m> Finished chain.\u001b[0m\n",
            "response1: 4\n",
            "response2: 0\n",
            "response3: 0\n",
            "----------------------------------------\n",
            "Query: Then divide the value of 40//20 ?Add 10 to that.\n",
            "\n",
            "\n",
            "\u001b[1m> Entering new AgentExecutor chain...\u001b[0m\n",
            "\u001b[32;1m\u001b[1;3mThought: I need to divide 40 by 20 and then add 10 to the result.\n",
            "Action: DivideTool\n",
            "Action Input: 40 20\u001b[0m\n",
            "Observation: \u001b[36;1m\u001b[1;3mThe result is: 2\u001b[0m\n",
            "Thought:\u001b[32;1m\u001b[1;3mThought: I need to add 10 to the result of the division.\n",
            "Action: None needed.  The calculation is simple enough to do directly.\n",
            "Thought: I now know the final answer\n",
            "Final Answer: 12\u001b[0m\n",
            "\n",
            "\u001b[1m> Finished chain.\u001b[0m\n",
            "response1: 1\n",
            "response2: 2\n",
            "----------------------------------------\n"
          ]
        }
      ]
    }
  ]
}